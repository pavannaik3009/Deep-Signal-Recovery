{
 "cells": [
  {
   "cell_type": "code",
   "execution_count": 1,
   "metadata": {},
   "outputs": [],
   "source": [
    "import tensorflow as tf\n",
    "import numpy as np"
   ]
  },
  {
   "cell_type": "code",
   "execution_count": 2,
   "metadata": {},
   "outputs": [],
   "source": [
    "seed = 3\n",
    "tf.set_random_seed(seed)\n",
    "np.random.seed(seed)"
   ]
  },
  {
   "cell_type": "code",
   "execution_count": null,
   "metadata": {},
   "outputs": [],
   "source": [
    "system_stat = 'Normal'\n",
    "#np.dtype(np.float32) \n",
    "#tf.enable_eager_execution\n",
    "#tfe = tf.contrib.eager"
   ]
  },
  {
   "cell_type": "markdown",
   "metadata": {},
   "source": [
    "#### Q-cdf of Gaussian"
   ]
  },
  {
   "cell_type": "code",
   "execution_count": 4,
   "metadata": {},
   "outputs": [],
   "source": [
    "def q(x):\n",
    "  eps = 0.0001\n",
    "  y = 0.5*tf.erfc(x/np.sqrt(2))\n",
    "  return y + eps"
   ]
  },
  {
   "cell_type": "markdown",
   "metadata": {},
   "source": [
    "#### Q' diff of Q "
   ]
  },
  {
   "cell_type": "code",
   "execution_count": null,
   "metadata": {},
   "outputs": [],
   "source": [
    " def grad_q(x):\n",
    "  eps = 0.0001\n",
    "  y = (-1./tf.sqrt(2.*np.pi)) * tf.exp(-0.5*(x**2))\n",
    "  return y +eps"
   ]
  },
  {
   "cell_type": "markdown",
   "metadata": {},
   "source": [
    "#### same as Q'"
   ]
  },
  {
   "cell_type": "code",
   "execution_count": 6,
   "metadata": {},
   "outputs": [],
   "source": [
    "def grad2_q(x):\n",
    "  eps = 0.0001\n",
    "  y = tfe.gradients_function(q)\n",
    "  z = y(x)\n",
    "  z = tf.squeeze(z, 0)\n",
    "  return z#+ eps"
   ]
  },
  {
   "cell_type": "markdown",
   "metadata": {},
   "source": [
    "#### Eta"
   ]
  },
  {
   "cell_type": "code",
   "execution_count": 7,
   "metadata": {},
   "outputs": [],
   "source": [
    "def eta(x):\n",
    "  eps = tf.constant(1)\n",
    "  y = (grad_q(x))/(q(x))\n",
    "  return y"
   ]
  },
  {
   "cell_type": "code",
   "execution_count": 8,
   "metadata": {},
   "outputs": [],
   "source": [
    "def generate_data(B, H_, thr_, Ny, Nx, x_delta, thr_delta, sigma_delta, mode='IID'):\n",
    "  x_true = np.zeros([B,Nx,1])\n",
    "  #x_true = np.random.uniform(low = x_delta[0], high=x_delta[1], size=(,Nx,1))\n",
    "  #x_true = np.random.normal(size=(,Nx,1))\n",
    "  #B batch size (500)\n",
    "  #Ny is  M\n",
    "  #Nx is N\n",
    "  H = np.zeros([B,Ny,Nx])\n",
    "  thr = np.zeros([B,Ny,1])\n",
    "  noise = np.zeros([B,Ny])\n",
    "  C = np.zeros([B,Ny,Ny])\n",
    "  for i in range(B):\n",
    "    x_true[i,:,:] = np.random.uniform(low = x_delta[0], high=x_delta[1], size=(Nx,1))\n",
    "    H[i,:,:] = H_\n",
    "    thr[i,:] = thr_\n",
    "    if mode=='IID':\n",
    "      sigma = np.random.uniform(low=sigma_delta[0], high=sigma_delta[1])\n",
    "      #noise = sigma*np.random.randn(Ny,1)\n",
    "      C[i,:,:] = (sigma**2)*np.eye(Ny)\n",
    "      noise[i,:] = np.random.multivariate_normal(  np.zeros([Ny])  , C[i,:,:] )\n",
    "    elif mode=='WNI':\n",
    "      sigma = np.random.uniform(low=sigma_delta[0], high=sigma_delta[1], size=(Ny))\n",
    "      C[i,:,:] = np.diag(sigma**2)\n",
    "      noise[i,:] = np.random.multivariate_normal(  np.zeros([Ny])  , C [i,:,:])\n",
    "  #noise[i,:] = np.reshape(noise, (Ny,1))\n",
    "  y = np.squeeze(np.matmul(H,x_true),-1) + noise\n",
    "  r = np.sign(y - np.squeeze(thr,-1))\n",
    "  #r = r.reshape((Ny))\n",
    "  return y, H, x_true, C, r, thr"
   ]
  },
  {
   "cell_type": "markdown",
   "metadata": {},
   "source": [
    "## Neural Layers"
   ]
  },
  {
   "cell_type": "code",
   "execution_count": 9,
   "metadata": {},
   "outputs": [],
   "source": [
    "def weight_variable(shape):\n",
    "  initial = tf.round(tf.random_normal(shape, stddev=0.01))\n",
    "  #initial = tf.random_normal(shape, stddev=0.01)\n",
    "  \n",
    "  return tf.Variable(initial)\n",
    "\n",
    "def bias_variable(shape):\n",
    "  initial = tf.random_normal(shape, stddev=0.01)\n",
    "  #initial = tf.random_normal(shape, stddev=0.01)\n",
    "  return tf.Variable(initial)"
   ]
  },
  {
   "cell_type": "code",
   "execution_count": 10,
   "metadata": {},
   "outputs": [],
   "source": [
    "Ny = 50\n",
    "Nx = 2\n",
    "B= 500\n",
    "L= 15 # total number of layer\n",
    "\n",
    "model_name= 'Ny'+str(Ny)+'Nx'+str(Nx)+'B'+str(B)+'L'+str(L)\n",
    "x_delta = [3, 7]\n",
    "thr_delta = [-20,20]\n",
    "sigma_delta = [0.1, 0.5] #1\n",
    "mode='WNI'\n",
    "\n",
    "H1 = np.random.randn(Ny,Nx)\n",
    "thr1 = np.random.uniform(low = thr_delta[0], high = thr_delta[1], size=(Ny,1))\n",
    "np.savetxt('H1'+model_name+'.csv', H1, delimiter=\",\")\n",
    "np.savetxt('thr1'+model_name+'.csv', thr1, delimiter=\",\")\n",
    "\n",
    "startingLearningRate = 0.0001\n",
    "decay_factor = 0.97\n",
    "decay_step_size = 1000\n",
    "train_iter = 20000\n",
    "res_alpha=0.9"
   ]
  },
  {
   "cell_type": "code",
   "execution_count": 11,
   "metadata": {},
   "outputs": [],
   "source": [
    "#tf.reset_default_graph()\n",
    "sess = tf.InteractiveSession()\n",
    "#tf.summary.FileWriter('/content/DeepUnfolding/', sess.graph)"
   ]
  },
  {
   "cell_type": "markdown",
   "metadata": {},
   "source": [
    "#### Loss and Learning Parameters"
   ]
  },
  {
   "cell_type": "code",
   "execution_count": 13,
   "metadata": {},
   "outputs": [],
   "source": [
    "#batchSize = tf.placeholder(tf.int32)\n",
    "org_signal = tf.placeholder(tf.float32, shape=[None,Nx,1], name='org_siganl')\n",
    "r = tf.placeholder(tf.float32, shape=[None,Ny], name= 'one-bit-data')\n",
    "C = tf.placeholder(tf.float32, shape = [None,Ny, Ny], name = 'noise-cov')\n",
    "tau = tf.placeholder(tf.float32, shape=[None,Ny,1], name='Thresholds')\n",
    "H = tf.placeholder(tf.float32, shape=[None,Ny,Nx], name='Sensing-Matrix')\n",
    "delta = tf.Variable(1.)"
   ]
  },
  {
   "cell_type": "code",
   "execution_count": 14,
   "metadata": {},
   "outputs": [],
   "source": [
    "#X1 = np.random.uniform(low = x_delta[0], high=x_delta[1], size=(Nx,1))"
   ]
  },
  {
   "cell_type": "markdown",
   "metadata": {},
   "source": [
    "#### Forming the vectors and matrices used in the deep unfolding"
   ]
  },
  {
   "cell_type": "code",
   "execution_count": 15,
   "metadata": {},
   "outputs": [],
   "source": [
    "\n",
    "Omega = tf.linalg.diag(r)\n",
    "C_ = tf.linalg.inv(tf.sqrt(C))\n",
    "Omega_tilde = tf.matmul(Omega,C_)\n",
    "H_tilde = tf.matmul(Omega_tilde,H)\n",
    "H_tilde_T = tf.transpose(H_tilde)\n",
    "H_tilde_T = tf.transpose(H_tilde_T, perm=[2,0,1])\n",
    "tau_tilde = tf.matmul(Omega_tilde, tau)\n",
    "tau_tilde = tf.squeeze(tau_tilde,-1)\n",
    "X = [] # \n",
    "X.append(tf.zeros([B,Nx])) #Initial point, X_0 = 0\n",
    "\n",
    "loss=[]\n",
    "loss.append(tf.zeros([]))"
   ]
  },
  {
   "cell_type": "code",
   "execution_count": 16,
   "metadata": {},
   "outputs": [],
   "source": [
    "for i in range(1,L): # range(1,L)\n",
    "  A = weight_variable([Ny,Ny])\n",
    "  BB = weight_variable([Ny,Ny])\n",
    "  W1 = weight_variable([Nx,Nx])\n",
    "  W2 = weight_variable([Nx,Nx])\n",
    "  b1 =  bias_variable([Nx,1])\n",
    "  X_ = tf.matmul(H_tilde,tf.expand_dims(X[-1],-1))\n",
    "  b = bias_variable([Ny,1])\n",
    "  temp1 = tf.matmul(tau_tilde,A)\n",
    "  temp2 = tf.matmul(tf.squeeze(X_,-1),BB)\n",
    "  \n",
    "  temp3 = eta(tf.expand_dims(temp1 - temp2,-1) + b)\n",
    "  temp4 = tf.matmul(H_tilde_T, temp3)\n",
    "  WW1 = tf.matmul(tf.squeeze(temp4,-1),W1)\n",
    "  WW2 = tf.matmul(X[-1],W2)\n",
    "  temp5 = tf.nn.relu(WW2 - WW1 + tf.squeeze(b1,-1))\n",
    "  X.append(temp5)\n",
    "  X[i] = (1-res_alpha)*X[i]+res_alpha*X[i-1]\n",
    "  #loss.append(tf.reduce_mean(tf.reduce_mean(tf.square(tf.squeeze(org_signal,-1) - X[-1])) ) )"
   ]
  },
  {
   "cell_type": "markdown",
   "metadata": {},
   "source": [
    "#### Loss"
   ]
  },
  {
   "cell_type": "code",
   "execution_count": 17,
   "metadata": {},
   "outputs": [],
   "source": [
    "LOSS = tf.reduce_mean(tf.square(tf.squeeze(org_signal,-1) - X[-1]))\n",
    "#LOSS = tf.add_n(loss)\n",
    "#final = loss[-1]\n",
    "#### Estimator\n",
    "X_HAT = X[-1]"
   ]
  },
  {
   "cell_type": "markdown",
   "metadata": {},
   "source": [
    "#### Optimizer"
   ]
  },
  {
   "cell_type": "code",
   "execution_count": 18,
   "metadata": {},
   "outputs": [],
   "source": [
    "global_step = tf.Variable(0, trainable=False)\n",
    "learning_rate = tf.train.exponential_decay(startingLearningRate, global_step, decay_step_size, decay_factor, staircase=True)\n",
    "train_step = tf.train.AdamOptimizer(learning_rate).minimize(LOSS)\n",
    "init_op=tf.global_variables_initializer()\n",
    "saver = tf.train.Saver()\n",
    "sess.run(init_op)"
   ]
  },
  {
   "cell_type": "code",
   "execution_count": 19,
   "metadata": {},
   "outputs": [
    {
     "name": "stdout",
     "output_type": "stream",
     "text": [
      "0 26.558582\n",
      "#######\n",
      "[[5.157786   3.38226726]]\n",
      "[0.00879293 0.00625634]\n",
      "100 8.440743\n",
      "#######\n",
      "[[5.85331428 5.33675297]]\n",
      "[2.3576596 1.4118519]\n",
      "200 3.1486192\n",
      "#######\n",
      "[[3.12665692 6.07479932]]\n",
      "[4.051056 2.934581]\n"
     ]
    },
    {
     "ename": "ValueError",
     "evalue": "Parent directory of /content/DeepUnfolding/Ny50Nx2B500L15 doesn't exist, can't save.",
     "output_type": "error",
     "traceback": [
      "\u001b[0;31m---------------------------------------------------------------------------\u001b[0m",
      "\u001b[0;31mNotFoundError\u001b[0m                             Traceback (most recent call last)",
      "\u001b[0;32m/anaconda3/lib/python3.6/site-packages/tensorflow/python/client/session.py\u001b[0m in \u001b[0;36m_do_call\u001b[0;34m(self, fn, *args)\u001b[0m\n\u001b[1;32m   1333\u001b[0m     \u001b[0;32mtry\u001b[0m\u001b[0;34m:\u001b[0m\u001b[0;34m\u001b[0m\u001b[0;34m\u001b[0m\u001b[0m\n\u001b[0;32m-> 1334\u001b[0;31m       \u001b[0;32mreturn\u001b[0m \u001b[0mfn\u001b[0m\u001b[0;34m(\u001b[0m\u001b[0;34m*\u001b[0m\u001b[0margs\u001b[0m\u001b[0;34m)\u001b[0m\u001b[0;34m\u001b[0m\u001b[0;34m\u001b[0m\u001b[0m\n\u001b[0m\u001b[1;32m   1335\u001b[0m     \u001b[0;32mexcept\u001b[0m \u001b[0merrors\u001b[0m\u001b[0;34m.\u001b[0m\u001b[0mOpError\u001b[0m \u001b[0;32mas\u001b[0m \u001b[0me\u001b[0m\u001b[0;34m:\u001b[0m\u001b[0;34m\u001b[0m\u001b[0;34m\u001b[0m\u001b[0m\n",
      "\u001b[0;32m/anaconda3/lib/python3.6/site-packages/tensorflow/python/client/session.py\u001b[0m in \u001b[0;36m_run_fn\u001b[0;34m(feed_dict, fetch_list, target_list, options, run_metadata)\u001b[0m\n\u001b[1;32m   1318\u001b[0m       return self._call_tf_sessionrun(\n\u001b[0;32m-> 1319\u001b[0;31m           options, feed_dict, fetch_list, target_list, run_metadata)\n\u001b[0m\u001b[1;32m   1320\u001b[0m \u001b[0;34m\u001b[0m\u001b[0m\n",
      "\u001b[0;32m/anaconda3/lib/python3.6/site-packages/tensorflow/python/client/session.py\u001b[0m in \u001b[0;36m_call_tf_sessionrun\u001b[0;34m(self, options, feed_dict, fetch_list, target_list, run_metadata)\u001b[0m\n\u001b[1;32m   1406\u001b[0m         \u001b[0mself\u001b[0m\u001b[0;34m.\u001b[0m\u001b[0m_session\u001b[0m\u001b[0;34m,\u001b[0m \u001b[0moptions\u001b[0m\u001b[0;34m,\u001b[0m \u001b[0mfeed_dict\u001b[0m\u001b[0;34m,\u001b[0m \u001b[0mfetch_list\u001b[0m\u001b[0;34m,\u001b[0m \u001b[0mtarget_list\u001b[0m\u001b[0;34m,\u001b[0m\u001b[0;34m\u001b[0m\u001b[0;34m\u001b[0m\u001b[0m\n\u001b[0;32m-> 1407\u001b[0;31m         run_metadata)\n\u001b[0m\u001b[1;32m   1408\u001b[0m \u001b[0;34m\u001b[0m\u001b[0m\n",
      "\u001b[0;31mNotFoundError\u001b[0m: /content/DeepUnfolding; No such file or directory\n\t [[{{node save/SaveV2}} = SaveV2[dtypes=[DT_FLOAT, DT_FLOAT, DT_FLOAT, DT_FLOAT, DT_FLOAT, ..., DT_FLOAT, DT_FLOAT, DT_FLOAT, DT_FLOAT, DT_FLOAT], _device=\"/job:localhost/replica:0/task:0/device:CPU:0\"](_arg_save/Const_0_0, save/SaveV2/tensor_names, save/SaveV2/shape_and_slices, Variable, Variable_1, Variable_1/Adam, Variable_1/Adam_1, Variable_10, Variable_10/Adam, Variable_10/Adam_1, Variable_11, Variable_11/Adam, Variable_11/Adam_1, Variable_12, Variable_12/Adam, Variable_12/Adam_1, Variable_13, Variable_13/Adam, Variable_13/Adam_1, Variable_14, Variable_14/Adam, Variable_14/Adam_1, Variable_15, Variable_15/Adam, Variable_15/Adam_1, Variable_16, Variable_16/Adam, Variable_16/Adam_1, Variable_17, Variable_17/Adam, Variable_17/Adam_1, Variable_18, Variable_18/Adam, Variable_18/Adam_1, Variable_19, Variable_19/Adam, Variable_19/Adam_1, Variable_2, Variable_2/Adam, Variable_2/Adam_1, Variable_20, Variable_20/Adam, Variable_20/Adam_1, Variable_21, Variable_21/Adam, Variable_21/Adam_1, Variable_22, Variable_22/Adam, Variable_22/Adam_1, Variable_23, Variable_23/Adam, Variable_23/Adam_1, Variable_24, Variable_24/Adam, Variable_24/Adam_1, Variable_25, Variable_25/Adam, Variable_25/Adam_1, Variable_26, Variable_26/Adam, Variable_26/Adam_1, Variable_27, Variable_27/Adam, Variable_27/Adam_1, Variable_28, Variable_28/Adam, Variable_28/Adam_1, Variable_29, Variable_29/Adam, Variable_29/Adam_1, Variable_3, Variable_3/Adam, Variable_3/Adam_1, Variable_30, Variable_30/Adam, Variable_30/Adam_1, Variable_31, Variable_31/Adam, Variable_31/Adam_1, Variable_32, Variable_32/Adam, Variable_32/Adam_1, Variable_33, Variable_33/Adam, Variable_33/Adam_1, Variable_34, Variable_34/Adam, Variable_34/Adam_1, Variable_35, Variable_35/Adam, Variable_35/Adam_1, Variable_36, Variable_36/Adam, Variable_36/Adam_1, Variable_37, Variable_37/Adam, Variable_37/Adam_1, Variable_38, Variable_38/Adam, Variable_38/Adam_1, Variable_39, Variable_39/Adam, Variable_39/Adam_1, Variable_4, Variable_4/Adam, Variable_4/Adam_1, Variable_40, Variable_40/Adam, Variable_40/Adam_1, Variable_41, Variable_41/Adam, Variable_41/Adam_1, Variable_42, Variable_42/Adam, Variable_42/Adam_1, Variable_43, Variable_43/Adam, Variable_43/Adam_1, Variable_44, Variable_44/Adam, Variable_44/Adam_1, Variable_45, Variable_45/Adam, Variable_45/Adam_1, Variable_46, Variable_46/Adam, Variable_46/Adam_1, Variable_47, Variable_47/Adam, Variable_47/Adam_1, Variable_48, Variable_48/Adam, Variable_48/Adam_1, Variable_49, Variable_49/Adam, Variable_49/Adam_1, Variable_5, Variable_5/Adam, Variable_5/Adam_1, Variable_50, Variable_50/Adam, Variable_50/Adam_1, Variable_51, Variable_51/Adam, Variable_51/Adam_1, Variable_52, Variable_52/Adam, Variable_52/Adam_1, Variable_53, Variable_53/Adam, Variable_53/Adam_1, Variable_54, Variable_54/Adam, Variable_54/Adam_1, Variable_55, Variable_55/Adam, Variable_55/Adam_1, Variable_56, Variable_56/Adam, Variable_56/Adam_1, Variable_57, Variable_57/Adam, Variable_57/Adam_1, Variable_58, Variable_58/Adam, Variable_58/Adam_1, Variable_59, Variable_59/Adam, Variable_59/Adam_1, Variable_6, Variable_6/Adam, Variable_6/Adam_1, Variable_60, Variable_60/Adam, Variable_60/Adam_1, Variable_61, Variable_61/Adam, Variable_61/Adam_1, Variable_62, Variable_62/Adam, Variable_62/Adam_1, Variable_63, Variable_63/Adam, Variable_63/Adam_1, Variable_64, Variable_64/Adam, Variable_64/Adam_1, Variable_65, Variable_65/Adam, Variable_65/Adam_1, Variable_66, Variable_66/Adam, Variable_66/Adam_1, Variable_67, Variable_67/Adam, Variable_67/Adam_1, Variable_68, Variable_68/Adam, Variable_68/Adam_1, Variable_69, Variable_69/Adam, Variable_69/Adam_1, Variable_7, Variable_7/Adam, Variable_7/Adam_1, Variable_70, Variable_70/Adam, Variable_70/Adam_1, Variable_71, Variable_71/Adam, Variable_71/Adam_1, Variable_72, Variable_72/Adam, Variable_72/Adam_1, Variable_73, Variable_73/Adam, Variable_73/Adam_1, Variable_74, Variable_74/Adam, Variable_74/Adam_1, Variable_75, Variable_75/Adam, Variable_75/Adam_1, Variable_76, Variable_76/Adam, Variable_76/Adam_1, Variable_77, Variable_77/Adam, Variable_77/Adam_1, Variable_78, Variable_78/Adam, Variable_78/Adam_1, Variable_79, Variable_79/Adam, Variable_79/Adam_1, Variable_8, Variable_8/Adam, Variable_8/Adam_1, Variable_80, Variable_80/Adam, Variable_80/Adam_1, Variable_81, Variable_81/Adam, Variable_81/Adam_1, Variable_82, Variable_82/Adam, Variable_82/Adam_1, Variable_83, Variable_83/Adam, Variable_83/Adam_1, Variable_84, Variable_84/Adam, Variable_84/Adam_1, Variable_85, Variable_9, Variable_9/Adam, Variable_9/Adam_1, beta1_power, beta2_power)]]",
      "\nDuring handling of the above exception, another exception occurred:\n",
      "\u001b[0;31mNotFoundError\u001b[0m                             Traceback (most recent call last)",
      "\u001b[0;32m/anaconda3/lib/python3.6/site-packages/tensorflow/python/training/saver.py\u001b[0m in \u001b[0;36msave\u001b[0;34m(self, sess, save_path, global_step, latest_filename, meta_graph_suffix, write_meta_graph, write_state, strip_default_attrs)\u001b[0m\n\u001b[1;32m   1440\u001b[0m               \u001b[0mself\u001b[0m\u001b[0;34m.\u001b[0m\u001b[0msaver_def\u001b[0m\u001b[0;34m.\u001b[0m\u001b[0msave_tensor_name\u001b[0m\u001b[0;34m,\u001b[0m\u001b[0;34m\u001b[0m\u001b[0;34m\u001b[0m\u001b[0m\n\u001b[0;32m-> 1441\u001b[0;31m               {self.saver_def.filename_tensor_name: checkpoint_file})\n\u001b[0m\u001b[1;32m   1442\u001b[0m \u001b[0;34m\u001b[0m\u001b[0m\n",
      "\u001b[0;32m/anaconda3/lib/python3.6/site-packages/tensorflow/python/client/session.py\u001b[0m in \u001b[0;36mrun\u001b[0;34m(self, fetches, feed_dict, options, run_metadata)\u001b[0m\n\u001b[1;32m    928\u001b[0m       result = self._run(None, fetches, feed_dict, options_ptr,\n\u001b[0;32m--> 929\u001b[0;31m                          run_metadata_ptr)\n\u001b[0m\u001b[1;32m    930\u001b[0m       \u001b[0;32mif\u001b[0m \u001b[0mrun_metadata\u001b[0m\u001b[0;34m:\u001b[0m\u001b[0;34m\u001b[0m\u001b[0;34m\u001b[0m\u001b[0m\n",
      "\u001b[0;32m/anaconda3/lib/python3.6/site-packages/tensorflow/python/client/session.py\u001b[0m in \u001b[0;36m_run\u001b[0;34m(self, handle, fetches, feed_dict, options, run_metadata)\u001b[0m\n\u001b[1;32m   1151\u001b[0m       results = self._do_run(handle, final_targets, final_fetches,\n\u001b[0;32m-> 1152\u001b[0;31m                              feed_dict_tensor, options, run_metadata)\n\u001b[0m\u001b[1;32m   1153\u001b[0m     \u001b[0;32melse\u001b[0m\u001b[0;34m:\u001b[0m\u001b[0;34m\u001b[0m\u001b[0;34m\u001b[0m\u001b[0m\n",
      "\u001b[0;32m/anaconda3/lib/python3.6/site-packages/tensorflow/python/client/session.py\u001b[0m in \u001b[0;36m_do_run\u001b[0;34m(self, handle, target_list, fetch_list, feed_dict, options, run_metadata)\u001b[0m\n\u001b[1;32m   1327\u001b[0m       return self._do_call(_run_fn, feeds, fetches, targets, options,\n\u001b[0;32m-> 1328\u001b[0;31m                            run_metadata)\n\u001b[0m\u001b[1;32m   1329\u001b[0m     \u001b[0;32melse\u001b[0m\u001b[0;34m:\u001b[0m\u001b[0;34m\u001b[0m\u001b[0;34m\u001b[0m\u001b[0m\n",
      "\u001b[0;32m/anaconda3/lib/python3.6/site-packages/tensorflow/python/client/session.py\u001b[0m in \u001b[0;36m_do_call\u001b[0;34m(self, fn, *args)\u001b[0m\n\u001b[1;32m   1347\u001b[0m       \u001b[0mmessage\u001b[0m \u001b[0;34m=\u001b[0m \u001b[0merror_interpolation\u001b[0m\u001b[0;34m.\u001b[0m\u001b[0minterpolate\u001b[0m\u001b[0;34m(\u001b[0m\u001b[0mmessage\u001b[0m\u001b[0;34m,\u001b[0m \u001b[0mself\u001b[0m\u001b[0;34m.\u001b[0m\u001b[0m_graph\u001b[0m\u001b[0;34m)\u001b[0m\u001b[0;34m\u001b[0m\u001b[0;34m\u001b[0m\u001b[0m\n\u001b[0;32m-> 1348\u001b[0;31m       \u001b[0;32mraise\u001b[0m \u001b[0mtype\u001b[0m\u001b[0;34m(\u001b[0m\u001b[0me\u001b[0m\u001b[0;34m)\u001b[0m\u001b[0;34m(\u001b[0m\u001b[0mnode_def\u001b[0m\u001b[0;34m,\u001b[0m \u001b[0mop\u001b[0m\u001b[0;34m,\u001b[0m \u001b[0mmessage\u001b[0m\u001b[0;34m)\u001b[0m\u001b[0;34m\u001b[0m\u001b[0;34m\u001b[0m\u001b[0m\n\u001b[0m\u001b[1;32m   1349\u001b[0m \u001b[0;34m\u001b[0m\u001b[0m\n",
      "\u001b[0;31mNotFoundError\u001b[0m: /content/DeepUnfolding; No such file or directory\n\t [[node save/SaveV2 (defined at <ipython-input-18-176b506927ff>:7)  = SaveV2[dtypes=[DT_FLOAT, DT_FLOAT, DT_FLOAT, DT_FLOAT, DT_FLOAT, ..., DT_FLOAT, DT_FLOAT, DT_FLOAT, DT_FLOAT, DT_FLOAT], _device=\"/job:localhost/replica:0/task:0/device:CPU:0\"](_arg_save/Const_0_0, save/SaveV2/tensor_names, save/SaveV2/shape_and_slices, Variable, Variable_1, Variable_1/Adam, Variable_1/Adam_1, Variable_10, Variable_10/Adam, Variable_10/Adam_1, Variable_11, Variable_11/Adam, Variable_11/Adam_1, Variable_12, Variable_12/Adam, Variable_12/Adam_1, Variable_13, Variable_13/Adam, Variable_13/Adam_1, Variable_14, Variable_14/Adam, Variable_14/Adam_1, Variable_15, Variable_15/Adam, Variable_15/Adam_1, Variable_16, Variable_16/Adam, Variable_16/Adam_1, Variable_17, Variable_17/Adam, Variable_17/Adam_1, Variable_18, Variable_18/Adam, Variable_18/Adam_1, Variable_19, Variable_19/Adam, Variable_19/Adam_1, Variable_2, Variable_2/Adam, Variable_2/Adam_1, Variable_20, Variable_20/Adam, Variable_20/Adam_1, Variable_21, Variable_21/Adam, Variable_21/Adam_1, Variable_22, Variable_22/Adam, Variable_22/Adam_1, Variable_23, Variable_23/Adam, Variable_23/Adam_1, Variable_24, Variable_24/Adam, Variable_24/Adam_1, Variable_25, Variable_25/Adam, Variable_25/Adam_1, Variable_26, Variable_26/Adam, Variable_26/Adam_1, Variable_27, Variable_27/Adam, Variable_27/Adam_1, Variable_28, Variable_28/Adam, Variable_28/Adam_1, Variable_29, Variable_29/Adam, Variable_29/Adam_1, Variable_3, Variable_3/Adam, Variable_3/Adam_1, Variable_30, Variable_30/Adam, Variable_30/Adam_1, Variable_31, Variable_31/Adam, Variable_31/Adam_1, Variable_32, Variable_32/Adam, Variable_32/Adam_1, Variable_33, Variable_33/Adam, Variable_33/Adam_1, Variable_34, Variable_34/Adam, Variable_34/Adam_1, Variable_35, Variable_35/Adam, Variable_35/Adam_1, Variable_36, Variable_36/Adam, Variable_36/Adam_1, Variable_37, Variable_37/Adam, Variable_37/Adam_1, Variable_38, Variable_38/Adam, Variable_38/Adam_1, Variable_39, Variable_39/Adam, Variable_39/Adam_1, Variable_4, Variable_4/Adam, Variable_4/Adam_1, Variable_40, Variable_40/Adam, Variable_40/Adam_1, Variable_41, Variable_41/Adam, Variable_41/Adam_1, Variable_42, Variable_42/Adam, Variable_42/Adam_1, Variable_43, Variable_43/Adam, Variable_43/Adam_1, Variable_44, Variable_44/Adam, Variable_44/Adam_1, Variable_45, Variable_45/Adam, Variable_45/Adam_1, Variable_46, Variable_46/Adam, Variable_46/Adam_1, Variable_47, Variable_47/Adam, Variable_47/Adam_1, Variable_48, Variable_48/Adam, Variable_48/Adam_1, Variable_49, Variable_49/Adam, Variable_49/Adam_1, Variable_5, Variable_5/Adam, Variable_5/Adam_1, Variable_50, Variable_50/Adam, Variable_50/Adam_1, Variable_51, Variable_51/Adam, Variable_51/Adam_1, Variable_52, Variable_52/Adam, Variable_52/Adam_1, Variable_53, Variable_53/Adam, Variable_53/Adam_1, Variable_54, Variable_54/Adam, Variable_54/Adam_1, Variable_55, Variable_55/Adam, Variable_55/Adam_1, Variable_56, Variable_56/Adam, Variable_56/Adam_1, Variable_57, Variable_57/Adam, Variable_57/Adam_1, Variable_58, Variable_58/Adam, Variable_58/Adam_1, Variable_59, Variable_59/Adam, Variable_59/Adam_1, Variable_6, Variable_6/Adam, Variable_6/Adam_1, Variable_60, Variable_60/Adam, Variable_60/Adam_1, Variable_61, Variable_61/Adam, Variable_61/Adam_1, Variable_62, Variable_62/Adam, Variable_62/Adam_1, Variable_63, Variable_63/Adam, Variable_63/Adam_1, Variable_64, Variable_64/Adam, Variable_64/Adam_1, Variable_65, Variable_65/Adam, Variable_65/Adam_1, Variable_66, Variable_66/Adam, Variable_66/Adam_1, Variable_67, Variable_67/Adam, Variable_67/Adam_1, Variable_68, Variable_68/Adam, Variable_68/Adam_1, Variable_69, Variable_69/Adam, Variable_69/Adam_1, Variable_7, Variable_7/Adam, Variable_7/Adam_1, Variable_70, Variable_70/Adam, Variable_70/Adam_1, Variable_71, Variable_71/Adam, Variable_71/Adam_1, Variable_72, Variable_72/Adam, Variable_72/Adam_1, Variable_73, Variable_73/Adam, Variable_73/Adam_1, Variable_74, Variable_74/Adam, Variable_74/Adam_1, Variable_75, Variable_75/Adam, Variable_75/Adam_1, Variable_76, Variable_76/Adam, Variable_76/Adam_1, Variable_77, Variable_77/Adam, Variable_77/Adam_1, Variable_78, Variable_78/Adam, Variable_78/Adam_1, Variable_79, Variable_79/Adam, Variable_79/Adam_1, Variable_8, Variable_8/Adam, Variable_8/Adam_1, Variable_80, Variable_80/Adam, Variable_80/Adam_1, Variable_81, Variable_81/Adam, Variable_81/Adam_1, Variable_82, Variable_82/Adam, Variable_82/Adam_1, Variable_83, Variable_83/Adam, Variable_83/Adam_1, Variable_84, Variable_84/Adam, Variable_84/Adam_1, Variable_85, Variable_9, Variable_9/Adam, Variable_9/Adam_1, beta1_power, beta2_power)]]\n\nCaused by op 'save/SaveV2', defined at:\n  File \"/anaconda3/lib/python3.6/runpy.py\", line 193, in _run_module_as_main\n    \"__main__\", mod_spec)\n  File \"/anaconda3/lib/python3.6/runpy.py\", line 85, in _run_code\n    exec(code, run_globals)\n  File \"/anaconda3/lib/python3.6/site-packages/ipykernel_launcher.py\", line 16, in <module>\n    app.launch_new_instance()\n  File \"/anaconda3/lib/python3.6/site-packages/traitlets/config/application.py\", line 658, in launch_instance\n    app.start()\n  File \"/anaconda3/lib/python3.6/site-packages/ipykernel/kernelapp.py\", line 505, in start\n    self.io_loop.start()\n  File \"/anaconda3/lib/python3.6/site-packages/tornado/platform/asyncio.py\", line 132, in start\n    self.asyncio_loop.run_forever()\n  File \"/anaconda3/lib/python3.6/asyncio/base_events.py\", line 438, in run_forever\n    self._run_once()\n  File \"/anaconda3/lib/python3.6/asyncio/base_events.py\", line 1451, in _run_once\n    handle._run()\n  File \"/anaconda3/lib/python3.6/asyncio/events.py\", line 145, in _run\n    self._callback(*self._args)\n  File \"/anaconda3/lib/python3.6/site-packages/tornado/ioloop.py\", line 758, in _run_callback\n    ret = callback()\n  File \"/anaconda3/lib/python3.6/site-packages/tornado/stack_context.py\", line 300, in null_wrapper\n    return fn(*args, **kwargs)\n  File \"/anaconda3/lib/python3.6/site-packages/tornado/gen.py\", line 1233, in inner\n    self.run()\n  File \"/anaconda3/lib/python3.6/site-packages/tornado/gen.py\", line 1147, in run\n    yielded = self.gen.send(value)\n  File \"/anaconda3/lib/python3.6/site-packages/ipykernel/kernelbase.py\", line 357, in process_one\n    yield gen.maybe_future(dispatch(*args))\n  File \"/anaconda3/lib/python3.6/site-packages/tornado/gen.py\", line 326, in wrapper\n    yielded = next(result)\n  File \"/anaconda3/lib/python3.6/site-packages/ipykernel/kernelbase.py\", line 267, in dispatch_shell\n    yield gen.maybe_future(handler(stream, idents, msg))\n  File \"/anaconda3/lib/python3.6/site-packages/tornado/gen.py\", line 326, in wrapper\n    yielded = next(result)\n  File \"/anaconda3/lib/python3.6/site-packages/ipykernel/kernelbase.py\", line 534, in execute_request\n    user_expressions, allow_stdin,\n  File \"/anaconda3/lib/python3.6/site-packages/tornado/gen.py\", line 326, in wrapper\n    yielded = next(result)\n  File \"/anaconda3/lib/python3.6/site-packages/ipykernel/ipkernel.py\", line 294, in do_execute\n    res = shell.run_cell(code, store_history=store_history, silent=silent)\n  File \"/anaconda3/lib/python3.6/site-packages/ipykernel/zmqshell.py\", line 536, in run_cell\n    return super(ZMQInteractiveShell, self).run_cell(*args, **kwargs)\n  File \"/anaconda3/lib/python3.6/site-packages/IPython/core/interactiveshell.py\", line 2819, in run_cell\n    raw_cell, store_history, silent, shell_futures)\n  File \"/anaconda3/lib/python3.6/site-packages/IPython/core/interactiveshell.py\", line 2845, in _run_cell\n    return runner(coro)\n  File \"/anaconda3/lib/python3.6/site-packages/IPython/core/async_helpers.py\", line 67, in _pseudo_sync_runner\n    coro.send(None)\n  File \"/anaconda3/lib/python3.6/site-packages/IPython/core/interactiveshell.py\", line 3020, in run_cell_async\n    interactivity=interactivity, compiler=compiler, result=result)\n  File \"/anaconda3/lib/python3.6/site-packages/IPython/core/interactiveshell.py\", line 3185, in run_ast_nodes\n    if (yield from self.run_code(code, result)):\n  File \"/anaconda3/lib/python3.6/site-packages/IPython/core/interactiveshell.py\", line 3267, in run_code\n    exec(code_obj, self.user_global_ns, self.user_ns)\n  File \"<ipython-input-18-176b506927ff>\", line 7, in <module>\n    saver = tf.train.Saver()\n  File \"/anaconda3/lib/python3.6/site-packages/tensorflow/python/training/saver.py\", line 1102, in __init__\n    self.build()\n  File \"/anaconda3/lib/python3.6/site-packages/tensorflow/python/training/saver.py\", line 1114, in build\n    self._build(self._filename, build_save=True, build_restore=True)\n  File \"/anaconda3/lib/python3.6/site-packages/tensorflow/python/training/saver.py\", line 1151, in _build\n    build_save=build_save, build_restore=build_restore)\n  File \"/anaconda3/lib/python3.6/site-packages/tensorflow/python/training/saver.py\", line 792, in _build_internal\n    save_tensor = self._AddSaveOps(filename_tensor, saveables)\n  File \"/anaconda3/lib/python3.6/site-packages/tensorflow/python/training/saver.py\", line 284, in _AddSaveOps\n    save = self.save_op(filename_tensor, saveables)\n  File \"/anaconda3/lib/python3.6/site-packages/tensorflow/python/training/saver.py\", line 202, in save_op\n    tensors)\n  File \"/anaconda3/lib/python3.6/site-packages/tensorflow/python/ops/gen_io_ops.py\", line 1690, in save_v2\n    shape_and_slices=shape_and_slices, tensors=tensors, name=name)\n  File \"/anaconda3/lib/python3.6/site-packages/tensorflow/python/framework/op_def_library.py\", line 787, in _apply_op_helper\n    op_def=op_def)\n  File \"/anaconda3/lib/python3.6/site-packages/tensorflow/python/util/deprecation.py\", line 488, in new_func\n    return func(*args, **kwargs)\n  File \"/anaconda3/lib/python3.6/site-packages/tensorflow/python/framework/ops.py\", line 3274, in create_op\n    op_def=op_def)\n  File \"/anaconda3/lib/python3.6/site-packages/tensorflow/python/framework/ops.py\", line 1770, in __init__\n    self._traceback = tf_stack.extract_stack()\n\nNotFoundError (see above for traceback): /content/DeepUnfolding; No such file or directory\n\t [[node save/SaveV2 (defined at <ipython-input-18-176b506927ff>:7)  = SaveV2[dtypes=[DT_FLOAT, DT_FLOAT, DT_FLOAT, DT_FLOAT, DT_FLOAT, ..., DT_FLOAT, DT_FLOAT, DT_FLOAT, DT_FLOAT, DT_FLOAT], _device=\"/job:localhost/replica:0/task:0/device:CPU:0\"](_arg_save/Const_0_0, save/SaveV2/tensor_names, save/SaveV2/shape_and_slices, Variable, Variable_1, Variable_1/Adam, Variable_1/Adam_1, Variable_10, Variable_10/Adam, Variable_10/Adam_1, Variable_11, Variable_11/Adam, Variable_11/Adam_1, Variable_12, Variable_12/Adam, Variable_12/Adam_1, Variable_13, Variable_13/Adam, Variable_13/Adam_1, Variable_14, Variable_14/Adam, Variable_14/Adam_1, Variable_15, Variable_15/Adam, Variable_15/Adam_1, Variable_16, Variable_16/Adam, Variable_16/Adam_1, Variable_17, Variable_17/Adam, Variable_17/Adam_1, Variable_18, Variable_18/Adam, Variable_18/Adam_1, Variable_19, Variable_19/Adam, Variable_19/Adam_1, Variable_2, Variable_2/Adam, Variable_2/Adam_1, Variable_20, Variable_20/Adam, Variable_20/Adam_1, Variable_21, Variable_21/Adam, Variable_21/Adam_1, Variable_22, Variable_22/Adam, Variable_22/Adam_1, Variable_23, Variable_23/Adam, Variable_23/Adam_1, Variable_24, Variable_24/Adam, Variable_24/Adam_1, Variable_25, Variable_25/Adam, Variable_25/Adam_1, Variable_26, Variable_26/Adam, Variable_26/Adam_1, Variable_27, Variable_27/Adam, Variable_27/Adam_1, Variable_28, Variable_28/Adam, Variable_28/Adam_1, Variable_29, Variable_29/Adam, Variable_29/Adam_1, Variable_3, Variable_3/Adam, Variable_3/Adam_1, Variable_30, Variable_30/Adam, Variable_30/Adam_1, Variable_31, Variable_31/Adam, Variable_31/Adam_1, Variable_32, Variable_32/Adam, Variable_32/Adam_1, Variable_33, Variable_33/Adam, Variable_33/Adam_1, Variable_34, Variable_34/Adam, Variable_34/Adam_1, Variable_35, Variable_35/Adam, Variable_35/Adam_1, Variable_36, Variable_36/Adam, Variable_36/Adam_1, Variable_37, Variable_37/Adam, Variable_37/Adam_1, Variable_38, Variable_38/Adam, Variable_38/Adam_1, Variable_39, Variable_39/Adam, Variable_39/Adam_1, Variable_4, Variable_4/Adam, Variable_4/Adam_1, Variable_40, Variable_40/Adam, Variable_40/Adam_1, Variable_41, Variable_41/Adam, Variable_41/Adam_1, Variable_42, Variable_42/Adam, Variable_42/Adam_1, Variable_43, Variable_43/Adam, Variable_43/Adam_1, Variable_44, Variable_44/Adam, Variable_44/Adam_1, Variable_45, Variable_45/Adam, Variable_45/Adam_1, Variable_46, Variable_46/Adam, Variable_46/Adam_1, Variable_47, Variable_47/Adam, Variable_47/Adam_1, Variable_48, Variable_48/Adam, Variable_48/Adam_1, Variable_49, Variable_49/Adam, Variable_49/Adam_1, Variable_5, Variable_5/Adam, Variable_5/Adam_1, Variable_50, Variable_50/Adam, Variable_50/Adam_1, Variable_51, Variable_51/Adam, Variable_51/Adam_1, Variable_52, Variable_52/Adam, Variable_52/Adam_1, Variable_53, Variable_53/Adam, Variable_53/Adam_1, Variable_54, Variable_54/Adam, Variable_54/Adam_1, Variable_55, Variable_55/Adam, Variable_55/Adam_1, Variable_56, Variable_56/Adam, Variable_56/Adam_1, Variable_57, Variable_57/Adam, Variable_57/Adam_1, Variable_58, Variable_58/Adam, Variable_58/Adam_1, Variable_59, Variable_59/Adam, Variable_59/Adam_1, Variable_6, Variable_6/Adam, Variable_6/Adam_1, Variable_60, Variable_60/Adam, Variable_60/Adam_1, Variable_61, Variable_61/Adam, Variable_61/Adam_1, Variable_62, Variable_62/Adam, Variable_62/Adam_1, Variable_63, Variable_63/Adam, Variable_63/Adam_1, Variable_64, Variable_64/Adam, Variable_64/Adam_1, Variable_65, Variable_65/Adam, Variable_65/Adam_1, Variable_66, Variable_66/Adam, Variable_66/Adam_1, Variable_67, Variable_67/Adam, Variable_67/Adam_1, Variable_68, Variable_68/Adam, Variable_68/Adam_1, Variable_69, Variable_69/Adam, Variable_69/Adam_1, Variable_7, Variable_7/Adam, Variable_7/Adam_1, Variable_70, Variable_70/Adam, Variable_70/Adam_1, Variable_71, Variable_71/Adam, Variable_71/Adam_1, Variable_72, Variable_72/Adam, Variable_72/Adam_1, Variable_73, Variable_73/Adam, Variable_73/Adam_1, Variable_74, Variable_74/Adam, Variable_74/Adam_1, Variable_75, Variable_75/Adam, Variable_75/Adam_1, Variable_76, Variable_76/Adam, Variable_76/Adam_1, Variable_77, Variable_77/Adam, Variable_77/Adam_1, Variable_78, Variable_78/Adam, Variable_78/Adam_1, Variable_79, Variable_79/Adam, Variable_79/Adam_1, Variable_8, Variable_8/Adam, Variable_8/Adam_1, Variable_80, Variable_80/Adam, Variable_80/Adam_1, Variable_81, Variable_81/Adam, Variable_81/Adam_1, Variable_82, Variable_82/Adam, Variable_82/Adam_1, Variable_83, Variable_83/Adam, Variable_83/Adam_1, Variable_84, Variable_84/Adam, Variable_84/Adam_1, Variable_85, Variable_9, Variable_9/Adam, Variable_9/Adam_1, beta1_power, beta2_power)]]\n",
      "\nDuring handling of the above exception, another exception occurred:\n",
      "\u001b[0;31mValueError\u001b[0m                                Traceback (most recent call last)",
      "\u001b[0;32m<ipython-input-19-2ddb8ae27e15>\u001b[0m in \u001b[0;36m<module>\u001b[0;34m\u001b[0m\n\u001b[1;32m     29\u001b[0m     \u001b[0mprint\u001b[0m \u001b[0;34m(\u001b[0m\u001b[0mx1\u001b[0m\u001b[0;34m[\u001b[0m\u001b[0;36m0\u001b[0m\u001b[0;34m,\u001b[0m\u001b[0;34m:\u001b[0m\u001b[0;34m,\u001b[0m\u001b[0;34m:\u001b[0m\u001b[0;34m]\u001b[0m\u001b[0;34m.\u001b[0m\u001b[0mT\u001b[0m\u001b[0;34m)\u001b[0m\u001b[0;34m\u001b[0m\u001b[0;34m\u001b[0m\u001b[0m\n\u001b[1;32m     30\u001b[0m     \u001b[0mprint\u001b[0m \u001b[0;34m(\u001b[0m\u001b[0mestimator\u001b[0m\u001b[0;34m[\u001b[0m\u001b[0;36m0\u001b[0m\u001b[0;34m,\u001b[0m\u001b[0;34m:\u001b[0m\u001b[0;34m]\u001b[0m\u001b[0;34m)\u001b[0m\u001b[0;34m\u001b[0m\u001b[0;34m\u001b[0m\u001b[0m\n\u001b[0;32m---> 31\u001b[0;31m \u001b[0msaver\u001b[0m\u001b[0;34m.\u001b[0m\u001b[0msave\u001b[0m\u001b[0;34m(\u001b[0m\u001b[0msess\u001b[0m\u001b[0;34m,\u001b[0m \u001b[0;34m'/content/DeepUnfolding/'\u001b[0m\u001b[0;34m+\u001b[0m\u001b[0mmodel_name\u001b[0m\u001b[0;34m)\u001b[0m\u001b[0;34m\u001b[0m\u001b[0;34m\u001b[0m\u001b[0m\n\u001b[0m",
      "\u001b[0;32m/anaconda3/lib/python3.6/site-packages/tensorflow/python/training/saver.py\u001b[0m in \u001b[0;36msave\u001b[0;34m(self, sess, save_path, global_step, latest_filename, meta_graph_suffix, write_meta_graph, write_state, strip_default_attrs)\u001b[0m\n\u001b[1;32m   1456\u001b[0m               \"Parent directory of {} doesn't exist, can't save.\".format(\n\u001b[1;32m   1457\u001b[0m                   save_path))\n\u001b[0;32m-> 1458\u001b[0;31m         \u001b[0;32mraise\u001b[0m \u001b[0mexc\u001b[0m\u001b[0;34m\u001b[0m\u001b[0;34m\u001b[0m\u001b[0m\n\u001b[0m\u001b[1;32m   1459\u001b[0m \u001b[0;34m\u001b[0m\u001b[0m\n\u001b[1;32m   1460\u001b[0m     \u001b[0;32mif\u001b[0m \u001b[0mwrite_meta_graph\u001b[0m\u001b[0;34m:\u001b[0m\u001b[0;34m\u001b[0m\u001b[0;34m\u001b[0m\u001b[0m\n",
      "\u001b[0;31mValueError\u001b[0m: Parent directory of /content/DeepUnfolding/Ny50Nx2B500L15 doesn't exist, can't save."
     ]
    }
   ],
   "source": [
    "for i in range(300):\n",
    "  y1, _H1, x1 , C1, r1, taus = generate_data(B, H1, thr1, Ny, Nx, x_delta, thr_delta, sigma_delta, mode)\n",
    "  train_step.run(feed_dict={org_signal: x1, \n",
    "                            r: r1,\n",
    "                            C: C1,\n",
    "                            tau: taus,\n",
    "                            H: _H1\n",
    "                           \n",
    "                           })\n",
    "  if i%100==0:\n",
    "    train_accuracy = LOSS.eval(feed_dict = {org_signal: x1, \n",
    "                           r: r1,\n",
    "                           C: C1,\n",
    "                           tau: taus,\n",
    "                           H: _H1\n",
    "                           \n",
    "                           })\n",
    "    #final_accuracy = final.eval(feed_dict = feeddict)\n",
    "    estimator = X_HAT.eval(feed_dict = {org_signal: x1, \n",
    "                           r: r1,\n",
    "                           C: C1,\n",
    "                           tau: taus,\n",
    "                           H: _H1\n",
    "                           \n",
    "                           })\n",
    "    \n",
    "    print (i, train_accuracy) #, final_accuracy)\n",
    "    print ('#######')\n",
    "    print (x1[0,:,:].T)\n",
    "    print (estimator[0,:])\n",
    "saver.save(sess, '/content/DeepUnfolding/'+model_name)"
   ]
  },
  {
   "cell_type": "code",
   "execution_count": null,
   "metadata": {},
   "outputs": [],
   "source": [
    "import time as tm\n",
    "from google.colab import files \n",
    "test_iter = 50\n",
    "\n",
    "MSE = np.zeros([test_iter])\n",
    "NMSE = np.zeros([test_iter])\n",
    "TIME = np.zeros([test_iter])"
   ]
  },
  {
   "cell_type": "code",
   "execution_count": null,
   "metadata": {},
   "outputs": [],
   "source": [
    "for i in range(test_iter):\n",
    "  y1, _H1, x1 , C1, r1, taus = generate_data(B, H1, thr1, Ny, Nx, x_delta, thr_delta, sigma_delta, mode)\n",
    "  feeed = {org_signal: x1, r: r1, C: C1, tau: taus, H: _H1}\n",
    "  tic = tm.time()\n",
    "  MSE[i] = LOSS.eval(feed_dict = feeed)\n",
    "  toc = tm.time()\n",
    "  NMSE[i] = MSE[i]/np.mean(np.squeeze(x1,-1)**2)\n",
    "  TIME[i] = toc - tic\n",
    "  print('Iteration: %i - MSE: %f - NMSE: %f - TIME: %f' % (i,MSE[i], NMSE[i], TIME[i]))\n",
    "TIME_AVG = np.mean(TIME)/B\n",
    "MSE_AVG = np.mean(MSE)\n",
    "NMSE_AVG = np.mean(NMSE)\n",
    "print ('-------------Final Results-------------')\n",
    "print ('MSE: %f - NMSE: %f - TIME: %f per symbol' % (MSE_AVG, NMSE_AVG, TIME_AVG))\n",
    "print ('---------------------------------------')\n",
    "#np.savetxt('/content/SIMULATION_DETAILS/'+model_name+'.pavan', (TIME,MSE,NMSE))\n",
    "np.savez('/content/'+model_name+'.pavan', TIME=TIME, TIME_AVG=TIME_AVG, MSE=MSE, MSE_AVG=MSE_AVG, NMSE=NMSE, NMSE_AVG=NMSE_AVG, Ny=Ny, B=B, thr1=thr1, H1=H1, Nx=Nx, L=L,test_iter=test_iter)\n",
    "#files.download('/content/'+model_name+'.pavan.npz')\n",
    "#sess.close()"
   ]
  },
  {
   "cell_type": "code",
   "execution_count": null,
   "metadata": {},
   "outputs": [],
   "source": []
  }
 ],
 "metadata": {
  "kernelspec": {
   "display_name": "Python 3",
   "language": "python",
   "name": "python3"
  },
  "language_info": {
   "codemirror_mode": {
    "name": "ipython",
    "version": 3
   },
   "file_extension": ".py",
   "mimetype": "text/x-python",
   "name": "python",
   "nbconvert_exporter": "python",
   "pygments_lexer": "ipython3",
   "version": "3.6.8"
  }
 },
 "nbformat": 4,
 "nbformat_minor": 2
}
